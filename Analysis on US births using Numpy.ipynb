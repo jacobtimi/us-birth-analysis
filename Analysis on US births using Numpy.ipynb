{
 "cells": [
  {
   "cell_type": "code",
   "execution_count": 2,
   "metadata": {},
   "outputs": [
    {
     "data": {
      "text/html": [
       "<div>\n",
       "<style scoped>\n",
       "    .dataframe tbody tr th:only-of-type {\n",
       "        vertical-align: middle;\n",
       "    }\n",
       "\n",
       "    .dataframe tbody tr th {\n",
       "        vertical-align: top;\n",
       "    }\n",
       "\n",
       "    .dataframe thead th {\n",
       "        text-align: right;\n",
       "    }\n",
       "</style>\n",
       "<table border=\"1\" class=\"dataframe\">\n",
       "  <thead>\n",
       "    <tr style=\"text-align: right;\">\n",
       "      <th></th>\n",
       "      <th>year</th>\n",
       "      <th>month</th>\n",
       "      <th>day</th>\n",
       "      <th>gender</th>\n",
       "      <th>births</th>\n",
       "    </tr>\n",
       "  </thead>\n",
       "  <tbody>\n",
       "    <tr>\n",
       "      <th>0</th>\n",
       "      <td>1969</td>\n",
       "      <td>1</td>\n",
       "      <td>1.0</td>\n",
       "      <td>F</td>\n",
       "      <td>4046</td>\n",
       "    </tr>\n",
       "    <tr>\n",
       "      <th>1</th>\n",
       "      <td>1969</td>\n",
       "      <td>1</td>\n",
       "      <td>1.0</td>\n",
       "      <td>M</td>\n",
       "      <td>4440</td>\n",
       "    </tr>\n",
       "    <tr>\n",
       "      <th>2</th>\n",
       "      <td>1969</td>\n",
       "      <td>1</td>\n",
       "      <td>2.0</td>\n",
       "      <td>F</td>\n",
       "      <td>4454</td>\n",
       "    </tr>\n",
       "    <tr>\n",
       "      <th>3</th>\n",
       "      <td>1969</td>\n",
       "      <td>1</td>\n",
       "      <td>2.0</td>\n",
       "      <td>M</td>\n",
       "      <td>4548</td>\n",
       "    </tr>\n",
       "    <tr>\n",
       "      <th>4</th>\n",
       "      <td>1969</td>\n",
       "      <td>1</td>\n",
       "      <td>3.0</td>\n",
       "      <td>F</td>\n",
       "      <td>4548</td>\n",
       "    </tr>\n",
       "  </tbody>\n",
       "</table>\n",
       "</div>"
      ],
      "text/plain": [
       "   year  month  day gender  births\n",
       "0  1969      1  1.0      F    4046\n",
       "1  1969      1  1.0      M    4440\n",
       "2  1969      1  2.0      F    4454\n",
       "3  1969      1  2.0      M    4548\n",
       "4  1969      1  3.0      F    4548"
      ]
     },
     "execution_count": 2,
     "metadata": {},
     "output_type": "execute_result"
    }
   ],
   "source": [
    "# Loading of us_births Dataset using Numpy\n",
    "import numpy as np\n",
    "import pandas as pd\n",
    "using us_births data\n",
    "us_births = pd.read_csv('C:\\\\Python Class\\\\Datascience\\\\Datasets\\\\us_births.csv')\n",
    "us_births.head()"
   ]
  },
  {
   "cell_type": "code",
   "execution_count": 3,
   "metadata": {},
   "outputs": [
    {
     "name": "stdout",
     "output_type": "stream",
     "text": [
      "birth year \n",
      " [1969 1969 1969 ... 2008 2008 2008]\n",
      "gender \n",
      " ['F' 'M' 'F' ... 'M' 'F' 'M']\n",
      "Births \n",
      " [  4046   4440   4454 ... 165468 173215 181235]\n"
     ]
    }
   ],
   "source": [
    "# Extraction of year, gender and birth column from the Dataset\n",
    "year = np.array(us_births['year'])\n",
    "gender = np.array(us_births['gender'])\n",
    "Births = np.array(us_births['births'])\n",
    "print(\"birth year \\n\",year)\n",
    "print(\"gender \\n\",gender)\n",
    "print(\"Births \\n\",Births)"
   ]
  },
  {
   "cell_type": "code",
   "execution_count": 4,
   "metadata": {},
   "outputs": [
    {
     "name": "stdout",
     "output_type": "stream",
     "text": [
      "Total birth:   151774378\n",
      "male birth sum: 77738555\n",
      "female birth sum: 74035823\n",
      "mean birth:    9762.293561458802\n",
      "median birth:  4814.0\n"
     ]
    }
   ],
   "source": [
    "#computing the aggregation of sum of total birth, sum of female birth and sum of male birth, mean and median\n",
    "# Births = np.array(us_births['births'])\n",
    "print(\"Total birth:  \", Births.sum())\n",
    "print(\"male birth sum:\", Births[gender == \"M\"].sum())\n",
    "print(\"female birth sum:\", Births[gender == \"F\"].sum())\n",
    "print(\"mean birth:   \", Births.mean())\n",
    "# np.median(Births)\n",
    "print(\"median birth: \", np.median(Births))"
   ]
  },
  {
   "cell_type": "code",
   "execution_count": 9,
   "metadata": {},
   "outputs": [
    {
     "name": "stdout",
     "output_type": "stream",
     "text": [
      "minimum birth:  1\n",
      "maximum birth:  199622\n"
     ]
    }
   ],
   "source": [
    "# computing the maximum births and minimum births\n",
    "print(\"minimum birth: \", Births.min())\n",
    "print(\"maximum birth: \", Births.max())"
   ]
  },
  {
   "cell_type": "code",
   "execution_count": 6,
   "metadata": {},
   "outputs": [
    {
     "name": "stdout",
     "output_type": "stream",
     "text": [
      "max gender birth: M\n",
      "min gender birth: F\n"
     ]
    }
   ],
   "source": [
    "# Extraction of the gender with minimum birth and maximum birth\n",
    "print(\"max gender birth:\",gender[Births.argmax()])\n",
    "print(\"min gender birth:\",gender[Births.argmin()])"
   ]
  },
  {
   "cell_type": "code",
   "execution_count": 7,
   "metadata": {},
   "outputs": [
    {
     "name": "stdout",
     "output_type": "stream",
     "text": [
      "max year: 2007\n",
      "min year: 1975\n"
     ]
    }
   ],
   "source": [
    "# extraction of the year with minimum birth and maximum birth\n",
    "print(\"max year:\",year[Births.argmax()])\n",
    "print(\"min year:\",year[Births.argmin()])"
   ]
  }
 ],
 "metadata": {
  "kernelspec": {
   "display_name": "Python 3",
   "language": "python",
   "name": "python3"
  },
  "language_info": {
   "codemirror_mode": {
    "name": "ipython",
    "version": 3
   },
   "file_extension": ".py",
   "mimetype": "text/x-python",
   "name": "python",
   "nbconvert_exporter": "python",
   "pygments_lexer": "ipython3",
   "version": "3.7.6"
  }
 },
 "nbformat": 4,
 "nbformat_minor": 4
}
